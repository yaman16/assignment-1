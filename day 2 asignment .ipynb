{
 "cells": [
  {
   "cell_type": "code",
   "execution_count": 7,
   "metadata": {},
   "outputs": [
    {
     "name": "stdout",
     "output_type": "stream",
     "text": [
      "the original list is : [1, 3, [], 5, 6, [], 10]\n",
      "list after empty list removal :[1, 3, 5, 6, 10]\n"
     ]
    }
   ],
   "source": [
    "#remove empty list from list\n",
    "#using filter()\n",
    "\n",
    "#initializing list\n",
    "test_list =[ 1, 3 ,[], 5, 6 , [], 10 ]\n",
    "\n",
    "#printing original list\n",
    "print ( \"the original list is : \" + str(test_list))\n",
    "\n",
    "#remove empty list from list \n",
    "#using filter\n",
    "res = list(filter(None, test_list))\n",
    "\n",
    "#printing result\n",
    "print(\"list after empty list removal :\" + str(res))"
   ]
  },
  {
   "cell_type": "code",
   "execution_count": 3,
   "metadata": {},
   "outputs": [
    {
     "name": "stdout",
     "output_type": "stream",
     "text": [
      "python\n",
      "pythonis\n",
      "pythonisgreat\n",
      "pythonisgreatand\n",
      "pythonisgreatandjava\n",
      "pythonisgreatandjavaalso\n"
     ]
    }
   ],
   "source": [
    "#program without using any external library \n",
    "s= \"python is great and java is also great\"\n",
    "l= s.split()\n",
    "k= []\n",
    "for i in l:\n",
    "    \n",
    "    #if condition is uesd to store unique string\n",
    "    #in another list 'k'\n",
    "    if (s.count(i)>1 and (i not in k)or s.count(i)==1):\n",
    "        k.append(i)\n",
    "        print(''.join (k))"
   ]
  },
  {
   "cell_type": "code",
   "execution_count": null,
   "metadata": {},
   "outputs": [],
   "source": [
    "#program to find the occurrence\n",
    "#to each character in given string \n",
    "\n",
    "#initializing string\n",
    "inp_str = \"good for good \"\n",
    "\n",
    "# using sets() + count() to get count \n",
    "# of each element in string \n",
    "out = {x : inp_str.count(x) for x in set(inp_str)}\n",
    "# printing result\n",
    "print (occurence of all characters in goodforgood is :\\n \"+ str"
   ]
  }
 ],
 "metadata": {
  "kernelspec": {
   "display_name": "Python 3",
   "language": "python",
   "name": "python3"
  },
  "language_info": {
   "codemirror_mode": {
    "name": "ipython",
    "version": 3
   },
   "file_extension": ".py",
   "mimetype": "text/x-python",
   "name": "python",
   "nbconvert_exporter": "python",
   "pygments_lexer": "ipython3",
   "version": "3.8.5"
  }
 },
 "nbformat": 4,
 "nbformat_minor": 4
}
